{
 "cells": [
  {
   "cell_type": "code",
   "execution_count": 1,
   "id": "6d100c8c",
   "metadata": {},
   "outputs": [
    {
     "name": "stderr",
     "output_type": "stream",
     "text": [
      "/home/sashi/miniconda3/envs/anime-data-process/lib/python3.9/site-packages/scipy/__init__.py:146: UserWarning: A NumPy version >=1.16.5 and <1.23.0 is required for this version of SciPy (detected version 1.23.5\n",
      "  warnings.warn(f\"A NumPy version >={np_minversion} and <{np_maxversion}\"\n",
      "/home/sashi/miniconda3/envs/anime-data-process/lib/python3.9/site-packages/scipy/__init__.py:146: UserWarning: A NumPy version >=1.16.5 and <1.23.0 is required for this version of SciPy (detected version 1.23.5\n",
      "  warnings.warn(f\"A NumPy version >={np_minversion} and <{np_maxversion}\"\n"
     ]
    },
    {
     "name": "stdout",
     "output_type": "stream",
     "text": [
      "Migrating database to v0.18.0\n"
     ]
    }
   ],
   "source": [
    "import numpy as np\n",
    "\n",
    "import fiftyone as fo\n",
    "import fiftyone.zoo as foz"
   ]
  },
  {
   "cell_type": "code",
   "execution_count": 2,
   "id": "b5ca6f50",
   "metadata": {},
   "outputs": [
    {
     "name": "stdout",
     "output_type": "stream",
     "text": [
      " 100% |█████████████████| 941/941 [116.2ms elapsed, 0s remaining, 8.2K samples/s]   \n"
     ]
    },
    {
     "name": "stderr",
     "output_type": "stream",
     "text": [
      "/home/sashi/miniconda3/envs/anime-data-process/lib/python3.9/site-packages/torchvision/models/_utils.py:208: UserWarning: The parameter 'pretrained' is deprecated since 0.13 and will be removed in 0.15, please use 'weights' instead.\n",
      "  warnings.warn(\n",
      "/home/sashi/miniconda3/envs/anime-data-process/lib/python3.9/site-packages/torchvision/models/_utils.py:223: UserWarning: Arguments other than a weight enum or `None` for 'weights' are deprecated since 0.13 and will be removed in 0.15. The current behavior is equivalent to passing `weights=MobileNet_V2_Weights.IMAGENET1K_V1`. You can also use `weights=MobileNet_V2_Weights.DEFAULT` to get the most up-to-date weights.\n",
      "  warnings.warn(msg)\n"
     ]
    },
    {
     "name": "stdout",
     "output_type": "stream",
     "text": [
      " 100% |█████████████████| 941/941 [41.8s elapsed, 0s remaining, 27.7 samples/s]      \n",
      "(941, 1280)\n"
     ]
    }
   ],
   "source": [
    "dataset_dir = \"/media/sashi/DATA1/pictures/ACG-extra/training_data/yamanosusume/screenshots/EP2/\"\n",
    "dataset = fo.Dataset.from_dir(dataset_dir, dataset_type=fo.types.ImageDirectory)\n",
    "\n",
    "model = foz.load_zoo_model(\"mobilenet-v2-imagenet-torch\")\n",
    "embeddings = dataset.compute_embeddings(model)\n",
    "\n",
    "print(embeddings.shape)"
   ]
  },
  {
   "cell_type": "code",
   "execution_count": 35,
   "id": "81f16c05",
   "metadata": {},
   "outputs": [
    {
     "name": "stdout",
     "output_type": "stream",
     "text": [
      "(1147, 1147)\n"
     ]
    }
   ],
   "source": [
    "from sklearn.metrics.pairwise import cosine_similarity\n",
    "\n",
    "similarity_matrix = cosine_similarity(embeddings)\n",
    "\n",
    "n = len(similarity_matrix)\n",
    "similarity_matrix = similarity_matrix - np.identity(n)\n",
    "\n",
    "print(similarity_matrix.shape)"
   ]
  },
  {
   "cell_type": "code",
   "execution_count": 36,
   "id": "08cf0d2b",
   "metadata": {},
   "outputs": [],
   "source": [
    "id_map = [s.id for s in dataset.select_fields([\"id\"])]\n",
    "\n",
    "for idx, sample in enumerate(dataset):\n",
    "    max_similarity = similarity_matrix[idx].max()\n",
    "    sample[\"max_similarity\"] = max_similarity\n",
    "    sample.save()"
   ]
  },
  {
   "cell_type": "code",
   "execution_count": 46,
   "id": "d2babb57",
   "metadata": {},
   "outputs": [
    {
     "data": {
      "text/html": [
       "\n",
       "        <iframe\n",
       "            width=\"100%\"\n",
       "            height=\"800\"\n",
       "            src=\"http://localhost:5151/?context=ipython&subscription=efa6147a-b74f-47b2-b8dd-9ed722a63135\"\n",
       "            frameborder=\"0\"\n",
       "            allowfullscreen\n",
       "            \n",
       "        ></iframe>\n",
       "        "
      ],
      "text/plain": [
       "<IPython.lib.display.IFrame at 0x7fd9f5a69610>"
      ]
     },
     "metadata": {},
     "output_type": "display_data"
    }
   ],
   "source": [
    "session = fo.launch_app(dataset)"
   ]
  },
  {
   "cell_type": "code",
   "execution_count": 45,
   "id": "9cb42cbb",
   "metadata": {},
   "outputs": [],
   "source": [
    "thresh = 0.98\n",
    "samples_to_remove = set()\n",
    "samples_to_keep = set()\n",
    "for idx, sample in enumerate(dataset):\n",
    "    if sample.id not in samples_to_remove:\n",
    "        # Keep the first instance of two duplicates\n",
    "        samples_to_keep.add(sample.id)\n",
    "        \n",
    "        dup_idxs = np.where(similarity_matrix[idx] > thresh)[0]\n",
    "        for dup in dup_idxs:\n",
    "            # We kept the first instance so remove all other duplicates\n",
    "            samples_to_remove.add(id_map[dup])\n",
    "            \n",
    "        if len(dup_idxs) > 0:\n",
    "            sample.tags.append(\"has_duplicates\")\n",
    "            sample.save()\n",
    "        \n",
    "    else:\n",
    "        sample.tags.append(\"duplicate\")\n",
    "        sample.save()"
   ]
  },
  {
   "cell_type": "code",
   "execution_count": 31,
   "id": "8feea6ca",
   "metadata": {},
   "outputs": [],
   "source": [
    "import os"
   ]
  },
  {
   "cell_type": "code",
   "execution_count": 47,
   "id": "af619027",
   "metadata": {},
   "outputs": [],
   "source": [
    "for sample_id in samples_to_remove:\n",
    "    os.remove(dataset[sample_id].filepath)\n",
    "dataset.delete_samples(list(samples_to_remove))"
   ]
  },
  {
   "cell_type": "code",
   "execution_count": null,
   "id": "2fa340e3",
   "metadata": {},
   "outputs": [],
   "source": []
  }
 ],
 "metadata": {
  "kernelspec": {
   "display_name": "Python 3 (ipykernel)",
   "language": "python",
   "name": "python3"
  },
  "language_info": {
   "codemirror_mode": {
    "name": "ipython",
    "version": 3
   },
   "file_extension": ".py",
   "mimetype": "text/x-python",
   "name": "python",
   "nbconvert_exporter": "python",
   "pygments_lexer": "ipython3",
   "version": "3.9.12"
  }
 },
 "nbformat": 4,
 "nbformat_minor": 5
}
